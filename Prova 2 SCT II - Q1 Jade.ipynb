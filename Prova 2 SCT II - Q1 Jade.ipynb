{
 "cells": [
  {
   "cell_type": "markdown",
   "id": "4f99849e",
   "metadata": {},
   "source": [
    "Instituto Federal de Santa Catarina   \n",
    "Curso de Engenharia Eletrônica   \n",
    "Disciplina: Sistemas de Controle II   \n",
    "Aluna: Jade Dutra Lopes"
   ]
  },
  {
   "cell_type": "code",
   "execution_count": 1,
   "id": "934395a2",
   "metadata": {},
   "outputs": [],
   "source": [
    "import numpy as np\n",
    "import sympy as sp\n",
    "import control                   \n",
    "import control.matlab\n",
    "import math\n",
    "import cmath\n",
    "import matplotlib.pyplot as plt\n",
    "from scipy import linalg"
   ]
  },
  {
   "cell_type": "markdown",
   "id": "bd4035ff",
   "metadata": {},
   "source": [
    "## Questão 2"
   ]
  },
  {
   "cell_type": "code",
   "execution_count": 2,
   "id": "ca73b704",
   "metadata": {},
   "outputs": [
    {
     "data": {
      "text/latex": [
       "\\[\n",
       "\\left(\\begin{array}{rllrll|rll}\n",
       "0\\phantom{.}&\\hspace{-1em}&\\hspace{-1em}\\phantom{\\cdot}&1\\phantom{.}&\\hspace{-1em}&\\hspace{-1em}\\phantom{\\cdot}&0\\phantom{.}&\\hspace{-1em}&\\hspace{-1em}\\phantom{\\cdot}\\\\\n",
       "0\\phantom{.}&\\hspace{-1em}&\\hspace{-1em}\\phantom{\\cdot}&-2\\phantom{.}&\\hspace{-1em}&\\hspace{-1em}\\phantom{\\cdot}&1\\phantom{.}&\\hspace{-1em}&\\hspace{-1em}\\phantom{\\cdot}\\\\\n",
       "\\hline\n",
       "1\\phantom{.}&\\hspace{-1em}&\\hspace{-1em}\\phantom{\\cdot}&0\\phantom{.}&\\hspace{-1em}&\\hspace{-1em}\\phantom{\\cdot}&0\\phantom{.}&\\hspace{-1em}&\\hspace{-1em}\\phantom{\\cdot}\\\\\n",
       "\\end{array}\\right)\n",
       "\\]"
      ],
      "text/plain": [
       "StateSpace(array([[ 0.,  1.],\n",
       "       [ 0., -2.]]), array([[0.],\n",
       "       [1.]]), array([[1., 0.]]), array([[0.]]))"
      ]
     },
     "execution_count": 2,
     "metadata": {},
     "output_type": "execute_result"
    }
   ],
   "source": [
    "A = np.matrix([[0, 1], [0, -2]])\n",
    "B = np.matrix([[0], [1]])\n",
    "C = np.matrix('1, 0')\n",
    "D = 0\n",
    "K = np.matrix('25 5')\n",
    "\n",
    "#sistema de estados\n",
    "G = control.ss(A,B,C,D)\n",
    "G"
   ]
  },
  {
   "cell_type": "code",
   "execution_count": 3,
   "id": "f615728d",
   "metadata": {},
   "outputs": [
    {
     "data": {
      "text/latex": [
       "$$\\frac{4.441 \\times 10^{-16} s + 1}{s^2 + 2 s}$$"
      ],
      "text/plain": [
       "TransferFunction(array([4.4408921e-16, 1.0000000e+00]), array([1., 2., 0.]))"
      ]
     },
     "execution_count": 3,
     "metadata": {},
     "output_type": "execute_result"
    }
   ],
   "source": [
    "sys = control.ss2tf(G)\n",
    "sys"
   ]
  },
  {
   "cell_type": "code",
   "execution_count": 4,
   "id": "7b3ce7df",
   "metadata": {},
   "outputs": [
    {
     "name": "stderr",
     "output_type": "stream",
     "text": [
      "C:\\Users\\zoy_r\\anaconda3\\lib\\site-packages\\scipy\\signal\\filter_design.py:1630: BadCoefficients: Badly conditioned filter coefficients (numerator): the results may be meaningless\n",
      "  warnings.warn(\"Badly conditioned filter coefficients (numerator): the \"\n"
     ]
    },
    {
     "data": {
      "image/png": "[encoded data removed]",
      "text/plain": [
       "<Figure size 432x288 with 1 Axes>"
      ]
     },
     "metadata": {
      "needs_background": "light"
     },
     "output_type": "display_data"
    }
   ],
   "source": [
    "x, y = control.step_response(sys)\n",
    "x2, y2 = control.step_response(G)\n",
    "plt.figure()\n",
    "plt.plot(x, y,  linewidth=5, label='Sistema')\n",
    "plt.plot(x2, y2, 'r', label='Sistema de estados')\n",
    "plt.title('Resposta ao degrau unitário')\n",
    "plt.xlabel(\"t\")\n",
    "plt.ylabel(\"y (t)\")\n",
    "plt.legend()\n",
    "plt.grid(True)\n",
    "plt.show()"
   ]
  },
  {
   "cell_type": "code",
   "execution_count": 5,
   "id": "bbed7fe3",
   "metadata": {},
   "outputs": [
    {
     "data": {
      "text/plain": [
       "array([ 0.+0.j, -2.+0.j])"
      ]
     },
     "execution_count": 5,
     "metadata": {},
     "output_type": "execute_result"
    }
   ],
   "source": [
    "autovalores_planta, autovetores = linalg.eig(A);\n",
    "polos_planta = autovalores_planta\n",
    "polos_planta"
   ]
  },
  {
   "cell_type": "markdown",
   "id": "f905340d",
   "metadata": {},
   "source": [
    "### Observador de ordem mínima"
   ]
  },
  {
   "cell_type": "code",
   "execution_count": 6,
   "id": "276a89b2",
   "metadata": {},
   "outputs": [
    {
     "data": {
      "text/plain": [
       "1"
      ]
     },
     "execution_count": 6,
     "metadata": {},
     "output_type": "execute_result"
    }
   ],
   "source": [
    "# Matrizes reduzidas\n",
    "Aaa = A[0,0]\n",
    "Aab = A[0,1]\n",
    "Aba = A[1,0]\n",
    "Abb = A[1,1]\n",
    "\n",
    "Ba = B[0,0]\n",
    "Bb = B[1,0]\n",
    "\n",
    "# Matriz de Controlabilidade do sistema dual para ordem mínima\n",
    "Mc = control.ctrb(Aab,Abb)\n",
    "Mc\n",
    "\n",
    "# Teste de Controlabilidade\n",
    "rank_Mc = np.linalg.matrix_rank(Mc) #número de postos do sistema\n",
    "rank_Mc"
   ]
  },
  {
   "cell_type": "code",
   "execution_count": 7,
   "id": "7f2cb66a",
   "metadata": {},
   "outputs": [
    {
     "name": "stdout",
     "output_type": "stream",
     "text": [
      "L: -10.0\n",
      "\n",
      "Ke: 98\n",
      "\n",
      "Achapeu: -100\n",
      "\n",
      "Bchapeu: -9800\n",
      "\n",
      "Fchapeu: 1\n",
      "\n",
      "Cchapeu: [[0]\n",
      " [1]]\n",
      "\n",
      "Dchapeu: [[ 1]\n",
      " [98]]\n",
      "\n"
     ]
    }
   ],
   "source": [
    "L = -5*abs(polos_planta[1]);\n",
    "\n",
    "# Ganho do observador\n",
    "Ke = np.matrix([98])\n",
    "Ke = Ke[0,0]      # Transformando em escalar\n",
    "\n",
    "Achapeu = Abb-Ke*Aab;\n",
    "Bchapeu = Achapeu*Ke+Aba-Ke*Aaa\n",
    "Fchapeu = Bb-Ke*Ba;\n",
    "\n",
    "Cchapeu = np.matrix('0;1');\n",
    "Dchapeu = np.block([[1], [Ke]]);\n",
    "\n",
    "print(\"L: \" + str(L) + \"\\n\")\n",
    "print(\"Ke: \" + str(Ke) + \"\\n\")\n",
    "print(\"Achapeu: \" + str(Achapeu) + \"\\n\")\n",
    "print(\"Bchapeu: \" + str(Bchapeu) + \"\\n\")\n",
    "print(\"Fchapeu: \" + str(Fchapeu) + \"\\n\")\n",
    "print(\"Cchapeu: \" + str(Cchapeu) + \"\\n\")\n",
    "print(\"Dchapeu: \" + str(Dchapeu) + \"\\n\")"
   ]
  },
  {
   "cell_type": "markdown",
   "id": "052a5752",
   "metadata": {},
   "source": [
    "### Equações recursivas"
   ]
  },
  {
   "cell_type": "code",
   "execution_count": 8,
   "id": "f974a8a5",
   "metadata": {},
   "outputs": [],
   "source": [
    "T = 0.01;\n",
    "Fs = 1/T\n",
    "tfinal = 5;\n",
    "Kmax = int(tfinal/T+1);\n",
    "k = np.linspace(0, Kmax, int(Fs*tfinal))\n",
    "u = np.ones(len(k));\n",
    "\n",
    "# definindo os vetores\n",
    "x1 = np.zeros(len(k));\n",
    "x2 = np.zeros(len(k));\n",
    "x1_ponto = np.zeros(len(k));\n",
    "x2_ponto = np.zeros(len(k));\n",
    "y = np.zeros(len(k));\n",
    "eta1 = np.zeros(len(k));\n",
    "eta1_ponto = np.zeros(len(k));\n",
    "xtil1 = np.zeros(len(k));\n",
    "xtil2 = np.zeros(len(k));\n",
    "\n",
    "# condições iniciais (podem ser diferentes de zero)\n",
    "x1[0] = 0;  #  para k = 0\n",
    "x2[0] = 0;  #  para k = 0\n",
    "x1_ponto[0] = 0;  #  para k = 0\n",
    "x2_ponto[0] = 0;  #  para k = 0\n",
    "y[0] = C[0,0]*x1[0]+C[0,1]*x2[0]+D*u[0];  #  para k = 0\n",
    "eta1[0] = 0;  #  para k = 0\n",
    "eta1_ponto[0] = Fchapeu*u[0];  #  para k = 0\n",
    "\n",
    "for j in range(1,Kmax-1):\n",
    "    # sistema original\n",
    "        # Equações dos integradores\n",
    "        x1[j]=T*x1_ponto[j-1]+x1[j-1];\n",
    "        x2[j]=T*x2_ponto[j-1]+x2[j-1];    \n",
    "        \n",
    "        # Equação diferencial de estados:  Xponto=A*X+B*U\n",
    "        x1_ponto[j]=A[0,0]*x1[j]+A[0,1]*x2[j]+B[0]*u[j];  \n",
    "        x2_ponto[j]=A[1,0]*x1[j]+A[1,1]*x2[j]+B[1]*u[j]; \n",
    "\n",
    "        # Equação de Saída: Y=C*X+D*U\n",
    "        y[j] = C[0,0]*x1[j]+C[0,1]*x2[j]+D*u[j];\n",
    "\n",
    "    # observador de ordem mínima\n",
    "        # Equações dos integradores do observador\n",
    "        eta1[j]=T*eta1_ponto[j-1]+eta1[j-1];\n",
    "    \n",
    "        # Equação diferencial de estados do observador\n",
    "        eta1_ponto[j]=Achapeu*eta1[j]+Bchapeu*y[j]+Fchapeu*u[j];\n",
    "    \n",
    "    # Transformação\n",
    "        # equação de saída do observador de ordem mínima\n",
    "        xtil1[j]=Cchapeu[0,0]*eta1[j]+Dchapeu[0]*y[j];\n",
    "        xtil2[j]=Cchapeu[1,0]*eta1[j]+Dchapeu[1]*y[j];"
   ]
  },
  {
   "cell_type": "code",
   "execution_count": 9,
   "id": "ebb9e3b8",
   "metadata": {
    "scrolled": false
   },
   "outputs": [
    {
     "data": {
      "image/png": "[encoded data removed]",
      "text/plain": [
       "<Figure size 576x576 with 1 Axes>"
      ]
     },
     "metadata": {
      "needs_background": "light"
     },
     "output_type": "display_data"
    }
   ],
   "source": [
    "K = np.matrix([25,5])\n",
    "\n",
    "fig, ((ax1) ) = plt.subplots(1, 1)\n",
    "fig.set_size_inches(8,8)\n",
    "\n",
    "ax1.plot(k*T,xtil1,'*')\n",
    "ax1.set_title(\"xtil da planta ao degrau unitário\")\n",
    "ax1.set_xlabel(\"t\")\n",
    "ax1.set_ylabel(\"y(t)\")\n",
    "ax1.legend(['y(t)'],loc=\"lower right\")\n",
    "ax1.grid(True,'both')"
   ]
  },
  {
   "cell_type": "markdown",
   "id": "8904d933",
   "metadata": {},
   "source": [
    "## Controlador"
   ]
  },
  {
   "cell_type": "code",
   "execution_count": 10,
   "id": "6b346f2f",
   "metadata": {},
   "outputs": [
    {
     "data": {
      "image/png": "[encoded data removed]",
      "text/plain": [
       "<Figure size 1440x576 with 2 Axes>"
      ]
     },
     "metadata": {
      "needs_background": "light"
     },
     "output_type": "display_data"
    }
   ],
   "source": [
    "tfinal = 5;\n",
    "Kmax = int((tfinal/T)+1);\n",
    "t =np.linspace(0, tfinal, Kmax);\n",
    "r = np.ones(int(len(t)));\n",
    "csi = np.zeros(len(t));\n",
    "u = np.zeros(len(t));\n",
    "\n",
    "# Vetores de Estados\n",
    "x1 = np.zeros(len(t));\n",
    "x2 = np.zeros(len(t));\n",
    "x1_ponto = np.zeros(len(t));\n",
    "x2_ponto = np.zeros(len(t));\n",
    "\n",
    "# Vetor de saída\n",
    "y = np.zeros(len(t));\n",
    "\n",
    "# Vetores do Observador\n",
    "til_x1_rec = np.zeros(len(t));\n",
    "til_x2_rec = np.zeros(len(t));\n",
    "til_x1_ponto_rec = np.zeros(len(t));\n",
    "til_x2_ponto_rec = np.zeros(len(t));\n",
    "til_y = np.zeros(len(t));\n",
    "\n",
    "erro_1 = np.zeros(len(t));\n",
    "erro_2 = np.zeros(len(t));\n",
    "\n",
    "## Condições iniciais\n",
    "\n",
    "#csi_ponto[0] = r[0] - y[0]; \n",
    "csi[0] = r[0] - y[0]; \n",
    "u[j] = -(K[0,0]*x1[0] + K[0,1]*x2[0]) + K[0,0]*csi[0];\n",
    "x1_ponto[0] = A[0,0]*x1[0] + A[0,1]*x2[0] + B[0]*u[0];\n",
    "x2_ponto[0] = A[1,0]*x1[0] + A[1,1]*x2[0] + B[1]*u[0];\n",
    "til_x1_ponto_rec[0]=B[0]*u[0];\n",
    "til_x2_ponto_rec[0]=B[1]*u[0];\n",
    "\n",
    "for j in range(1,len(t)):\n",
    "    # Equações dos integradores\n",
    "    x1[j] = T*x1_ponto[j-1] + x1[j-1];\n",
    "    x2[j] = T*x2_ponto[j-1] + x2[j-1];    \n",
    "\n",
    "    y[j] = C[0,0]*x1[j] + C[0,1]*x2[j]\n",
    "\n",
    "    csi[j] = r[j] - y[j];\n",
    "    \n",
    "    # Lei de Controle\n",
    "    u[j] = -(K[0,1]*x2[j]) + K[0,0]*csi[j];\n",
    "\n",
    "    # Equação diferencial de estados:  Xponto=A*X+B*U\n",
    "    x1_ponto[j] = A[0,0]*x1[j] + A[0,1]*x2[j] + B[0]*u[j];  \n",
    "    x2_ponto[j] = A[1,0]*x1[j] + A[1,1]*x2[j] + B[1]*u[j]; \n",
    "\n",
    "fig, ((ax1, ax2) ) = plt.subplots(2, 1)\n",
    "fig.set_size_inches(20,8)\n",
    "\n",
    "ax1.plot(t, x1, '*')\n",
    "ax1.set_title(\"x1\")\n",
    "ax1.set_xlabel(\"t\")\n",
    "ax1.set_ylabel(\"x1(t)\")\n",
    "ax1.legend(['x1 recursiva','x~1 recursiva'],loc=\"lower right\")\n",
    "ax1.grid(True)\n",
    "\n",
    "ax2.plot(t, y,'*')\n",
    "ax2.set_title(\"Saída y(t)\")\n",
    "ax2.set_xlabel(\"t\")\n",
    "ax2.set_ylabel(\"y(t)\")\n",
    "ax2.legend(['y(t)'],loc=\"lower right\")\n",
    "ax2.grid(True)"
   ]
  },
  {
   "cell_type": "markdown",
   "id": "c9d2fc31",
   "metadata": {},
   "source": [
    "### Controlador e Observador"
   ]
  },
  {
   "cell_type": "code",
   "execution_count": 16,
   "id": "e4398d1a",
   "metadata": {},
   "outputs": [
    {
     "data": {
      "image/png": "[encoded data removed]",
      "text/plain": [
       "<Figure size 864x576 with 4 Axes>"
      ]
     },
     "metadata": {
      "needs_background": "light"
     },
     "output_type": "display_data"
    }
   ],
   "source": [
    "# vetores de estados\n",
    "x1 = np.zeros(len(t));\n",
    "x2 = np.zeros(len(t));\n",
    "x1_ponto = np.zeros(len(t));\n",
    "x2_ponto = np.zeros(len(t));\n",
    "eta1 = np.zeros(len(t));\n",
    "eta1_ponto = np.zeros(len(t));\n",
    "xtil1 = np.zeros(len(t));\n",
    "xtil2 = np.zeros(len(t));\n",
    "\n",
    "# vetor de saída Y = C*X\n",
    "y = np.zeros(len(t));\n",
    "\n",
    "## Condições iniciais\n",
    "\n",
    "y[0] = C[0,0]*x1[0] + C[0,1]*x2[0] + D*u[0];  #  para k = 0\n",
    "#csi_ponto[0] = r[0] - y[0];\n",
    "csi[0] = r[0] - y[0];\n",
    "u[0] = -(K[0,1]*x2[0]) + K[0,0]*csi[0];\n",
    "x1_ponto[0] = A[0,0]*x1[0] + A[0,1]*x2[0] + B[0]*u[0];\n",
    "x2_ponto[0] = A[1,0]*x1[0] + A[1,1]*x2[0] + B[1]*u[0];\n",
    "eta1[0] = 0;  #  para k = 0\n",
    "eta1_ponto[0] = Fchapeu*u[0];  #  para k = 0\n",
    "\n",
    "for j in range(1,len(t)):\n",
    "    # Equações dos integradores\n",
    "    x1[j] = T*x1_ponto[j-1] + x1[j-1];\n",
    "    x2[j] = T*x2_ponto[j-1] + x2[j-1];   \n",
    "    \n",
    "    # observador de ordem mínima\n",
    "    # Equações dos integradores do observador\n",
    "    eta1[j] = T*eta1_ponto[j-1]+eta1[j-1];\n",
    "    \n",
    "    # Equação de Saída: Y=C*X+D*U\n",
    "    y[j] = C[0,0]*x1[j] + C[0,1]*x2[j] + D*u[j];\n",
    "\n",
    "    # Equação de erro\n",
    "    csi[j] = r[j] - y[j];\n",
    "    \n",
    "        # Transformação\n",
    "    # equação de saída do observador de ordem mínima\n",
    "    xtil1[j] = Cchapeu[0,0]*eta1[j] + Dchapeu[0]*y[j];\n",
    "    xtil2[j] = Cchapeu[1,0]*eta1[j] + Dchapeu[1]*y[j];\n",
    "\n",
    "\n",
    "    \n",
    "    # Equação da lei de controle\n",
    "    u[j] = -(K[0,1]*xtil2[j]) + K[0,0]*csi[j];\n",
    "\n",
    "    # Equação diferencial de estados:  Xponto=A*X+B*U\n",
    "    x1_ponto[j] = A[0,0]*x1[j] + A[0,1]*x2[j] + B[0]*u[j];  \n",
    "    x2_ponto[j] = A[1,0]*x1[j] + A[1,1]*x2[j] + B[1]*u[j];\n",
    "    \n",
    "    # Equação diferencial de estados do observador\n",
    "    eta1_ponto[j] = Achapeu*eta1[j] + Bchapeu*y[j] + Fchapeu*u[j];\n",
    "    \n",
    "\n",
    "fig, ((ax1, ax2,ax3,ax4) ) = plt.subplots(4, 1)\n",
    "fig.set_size_inches(12,8)\n",
    "\n",
    "ax1.plot(t, x1, t, xtil1,'*')\n",
    "ax1.set_title(\"x1 e x1 do Observador\")\n",
    "ax1.set_xlabel(\"t\")\n",
    "ax1.set_ylabel(\"x1(t)\")\n",
    "ax1.grid(True)\n",
    "\n",
    "ax2.plot(t, x2, t, xtil2,'*')\n",
    "ax2.set_title(\"x2 e x2 do Observador\")\n",
    "ax2.set_xlabel(\"t\")\n",
    "ax2.set_ylabel(\"x2(t)\")\n",
    "ax2.grid(True)\n",
    "\n",
    "ax3.plot(t, u,'*')\n",
    "ax3.set_title(\"Ação de controle\")\n",
    "ax3.set_xlabel(\"t\")\n",
    "ax3.set_ylabel(\"u(t)\")\n",
    "ax3.grid(True)\n",
    "\n",
    "ax4.plot(t, y,'*')\n",
    "ax4.set_title(\"Saída\")\n",
    "ax4.set_xlabel(\"t\")\n",
    "ax4.set_ylabel(\"y(t)\")\n",
    "ax4.grid(True)"
   ]
  }
 ],
 "metadata": {
  "kernelspec": {
   "display_name": "Python 3",
   "language": "python",
   "name": "python3"
  },
  "language_info": {
   "codemirror_mode": {
    "name": "ipython",
    "version": 3
   },
   "file_extension": ".py",
   "mimetype": "text/x-python",
   "name": "python",
   "nbconvert_exporter": "python",
   "pygments_lexer": "ipython3",
   "version": "3.8.8"
  }
 },
 "nbformat": 4,
 "nbformat_minor": 5
}
