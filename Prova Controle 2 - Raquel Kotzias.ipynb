{
 "cells": [
  {
   "cell_type": "markdown",
   "metadata": {},
   "source": [
    "Estudante: Raquel Kotzias\n",
    "#### Prova 1 de Controle"
   ]
  },
  {
   "cell_type": "code",
   "execution_count": 82,
   "metadata": {},
   "outputs": [],
   "source": [
    "from numpy import linspace, zeros, arange, e, sqrt, pi, abs\n",
    "from control import c2d, tf, pzmap\n",
    "from control.matlab import rlocus\n",
    "from math import degrees, tan\n",
    "from cmath import phase, rect\n",
    "import matplotlib.pyplot as plt"
   ]
  },
  {
   "cell_type": "markdown",
   "metadata": {},
   "source": [
    "# 1."
   ]
  },
  {
   "cell_type": "code",
   "execution_count": 4,
   "metadata": {},
   "outputs": [
    {
     "name": "stdout",
     "output_type": "stream",
     "text": [
      "F(z) = \n",
      "  0.1377\n",
      "----------\n",
      "z - 0.4493\n",
      "\n",
      "dt = 0.2\n",
      "  G(z) = \n",
      "  1.264\n",
      "----------\n",
      "z - 0.3679\n",
      "\n",
      "dt = 0.2\n",
      "  H(z) = \n",
      " 0.2\n",
      "-----\n",
      "z - 1\n",
      "\n",
      "dt = 0.2\n",
      "\n"
     ]
    }
   ],
   "source": [
    "T = .2\n",
    "\n",
    "Fs = tf([1],[1, 4])\n",
    "Gs = tf(10, [1, 5])\n",
    "Hs = tf(1, [1, 0])\n",
    "\n",
    "Fz = c2d(Fs, T)\n",
    "Gz = c2d(Gs, T)\n",
    "Hz = c2d(Hs, T)\n",
    "\n",
    "print(f'F(z) = {Fz}  G(z) = {Gz}  H(z) = {Hz}')"
   ]
  },
  {
   "cell_type": "code",
   "execution_count": 8,
   "metadata": {},
   "outputs": [
    {
     "data": {
      "image/png": "[encoded data removed]",
      "text/plain": [
       "<Figure size 432x288 with 1 Axes>"
      ]
     },
     "metadata": {
      "needs_background": "light"
     },
     "output_type": "display_data"
    }
   ],
   "source": [
    "kmax = 50\n",
    "t = T*arange(0, kmax)\n",
    "r = t\n",
    "\n",
    "x = zeros(kmax)\n",
    "v = zeros(kmax)\n",
    "c = zeros(kmax)\n",
    "e = x - v\n",
    "\n",
    "for k in range (1, kmax):\n",
    "    x[k] = 0.1377*r[k-1] + 0.4493*x[k-1]\n",
    "    v[k] = 0.2*c[k-1] + v[k-1]\n",
    "    e[k] = x[k] - v[k]\n",
    "    c[k] = 1.2642*e[k-1] + 0.3679*c[k-1]\n",
    "    \n",
    "plt.plot(t, c)\n",
    "plt.grid()\n",
    "plt.show()"
   ]
  },
  {
   "cell_type": "markdown",
   "metadata": {},
   "source": [
    "# 2."
   ]
  },
  {
   "cell_type": "code",
   "execution_count": 9,
   "metadata": {},
   "outputs": [
    {
     "data": {
      "text/latex": [
       "$$\\frac{0.1055}{z - 0.4724}\\quad dt = 0.15$$"
      ],
      "text/plain": [
       "TransferFunction(array([0.10552669]), array([ 1.        , -0.47236655]), 0.15)"
      ]
     },
     "execution_count": 9,
     "metadata": {},
     "output_type": "execute_result"
    }
   ],
   "source": [
    "T = 0.15\n",
    "zeta = 0.6\n",
    "wn = 4\n",
    "\n",
    "Gs = tf([1], [1, 5])\n",
    "Gz = c2d(Gs, T)\n",
    "\n",
    "Gz"
   ]
  },
  {
   "cell_type": "code",
   "execution_count": 19,
   "metadata": {},
   "outputs": [
    {
     "name": "stdout",
     "output_type": "stream",
     "text": [
      "|z1| = 0.6977  |  <z1 = 27.50°\n",
      "z1 = 0.6188+0.3222j\n"
     ]
    }
   ],
   "source": [
    "beta1 = -1\n",
    "alpha = -0.4724\n",
    "\n",
    "z1_mod = e**(-T*zeta*wn)\n",
    "z1_fase = T*wn*sqrt(1-zeta**2)\n",
    "\n",
    "z1 = rect(z1_mod, z1_fase)\n",
    "\n",
    "print(f'|z1| = {z1_mod:.4f}  |  <z1 = {degrees(z1_fase):.2f}°')\n",
    "print(f'z1 = {z1:.4f}')"
   ]
  },
  {
   "cell_type": "code",
   "execution_count": 87,
   "metadata": {},
   "outputs": [
    {
     "name": "stdout",
     "output_type": "stream",
     "text": [
      "angulo = -0.7017192389872595\n"
     ]
    }
   ],
   "source": [
    "Cz = tf(Gz.den[0][0], [1], T)\n",
    "\n",
    "Ci = tf(1, [1, beta1], T)\n",
    "\n",
    "ang = -pi - phase(Cz(z1)) - phase(Ci(z1)) - phase(Gz(z1))\n",
    "\n",
    "print(f\"angulo = {ang}\")"
   ]
  },
  {
   "cell_type": "code",
   "execution_count": 45,
   "metadata": {},
   "outputs": [
    {
     "name": "stdout",
     "output_type": "stream",
     "text": [
      "beta2 = -0.2376707179366172\n"
     ]
    }
   ],
   "source": [
    "beta2 = z1.imag/tan(-ang) - z1.real\n",
    "\n",
    "print(f'beta2 = {beta2}')"
   ]
  },
  {
   "cell_type": "code",
   "execution_count": 52,
   "metadata": {},
   "outputs": [
    {
     "name": "stdout",
     "output_type": "stream",
     "text": [
      "<FTMA = 180.0\n"
     ]
    }
   ],
   "source": [
    "Cp = tf(1, [1, beta2], T)\n",
    "\n",
    "FTMA_sK = Cz*Ci*Cp*Gz\n",
    "print(f'<FTMA = {degrees(phase(FTMA_sK(z1)))}')"
   ]
  },
  {
   "cell_type": "code",
   "execution_count": 81,
   "metadata": {},
   "outputs": [
    {
     "name": "stdout",
     "output_type": "stream",
     "text": [
      "Kc = 2.3604\n",
      "|FTMA| = 1.0\n"
     ]
    }
   ],
   "source": [
    "Kc = 1/abs(FTMD_sK(z1))\n",
    "\n",
    "print(f'Kc = {Kc:.4f}')\n",
    "\n",
    "FTMA = Kc*FTMA_sK\n",
    "print(f'|FTMA| = {abs(FTMA(z1))}')"
   ]
  },
  {
   "cell_type": "code",
   "execution_count": 89,
   "metadata": {},
   "outputs": [
    {
     "name": "stdout",
     "output_type": "stream",
     "text": [
      "Gc(z) =2.3604 *    z -0.4724\n",
      "               --------------------\n",
      "                (z -1)*(z -0.2377)\n",
      "Gc(z) = \n",
      "    2.36 z - 1.115\n",
      "----------------------\n",
      "z^2 - 1.238 z + 0.2377\n",
      "\n",
      "dt = 0.15\n",
      "\n"
     ]
    },
    {
     "data": {
      "text/plain": [
       "[<matplotlib.lines.Line2D at 0x94cbba8>]"
      ]
     },
     "execution_count": 89,
     "metadata": {},
     "output_type": "execute_result"
    },
    {
     "data": {
      "image/png": "[encoded data removed]",
      "text/plain": [
       "<Figure size 432x288 with 1 Axes>"
      ]
     },
     "metadata": {
      "needs_background": "light"
     },
     "output_type": "display_data"
    }
   ],
   "source": [
    "C = Cz*Ci*Cp*Kc\n",
    "\n",
    "print(f'Gc(z) ={Kc:.4f} *    z {alpha}')\n",
    "print(f'               --------------------')\n",
    "print(f'                (z {beta1})*(z {beta2:.4f})')\n",
    "print(f'Gc(z) = {C}')\n",
    "\n",
    "Tf = 2\n",
    "kmax = int(Tf/T)\n",
    "\n",
    "t = T*arange(0, kmax)\n",
    "FTMF = FTMA/(1 + FTMA)\n",
    "y, t = step(FTMF)\n",
    "plt.plot(t, y)"
   ]
  },
  {
   "cell_type": "code",
   "execution_count": 85,
   "metadata": {},
   "outputs": [
    {
     "data": {
      "image/png": "[encoded data removed]",
      "text/plain": [
       "<Figure size 432x288 with 1 Axes>"
      ]
     },
     "metadata": {
      "needs_background": "light"
     },
     "output_type": "display_data"
    },
    {
     "name": "stdout",
     "output_type": "stream",
     "text": [
      "x vermelho é o local de z1\n"
     ]
    }
   ],
   "source": [
    "_, _ = rlocus(FTMA, [0, 1, 2, 3, 4])\n",
    "plt.plot(z1.real, z1.imag, 'xr')\n",
    "plt.xlim(-1, 1)\n",
    "plt.ylim(-1.2, 1.2)\n",
    "plt.show()\n",
    "\n",
    "p, z = pzmap(FTMA, plot=False)\n",
    "print(\"x vermelho é o local de z1\")"
   ]
  },
  {
   "cell_type": "code",
   "execution_count": 84,
   "metadata": {},
   "outputs": [
    {
     "name": "stdout",
     "output_type": "stream",
     "text": [
      "polos = [1.        +0.j 0.47236655+0.j 0.23767072+0.j]\n",
      "zeros = [0.47236655+0.j]\n"
     ]
    }
   ],
   "source": [
    "print(f'polos = {p}')\n",
    "print(f'zeros = {z}')"
   ]
  }
 ],
 "metadata": {
  "kernelspec": {
   "display_name": "Python 3",
   "language": "python",
   "name": "python3"
  },
  "language_info": {
   "codemirror_mode": {
    "name": "ipython",
    "version": 3
   },
   "file_extension": ".py",
   "mimetype": "text/x-python",
   "name": "python",
   "nbconvert_exporter": "python",
   "pygments_lexer": "ipython3",
   "version": "3.7.3"
  }
 },
 "nbformat": 4,
 "nbformat_minor": 2
}
