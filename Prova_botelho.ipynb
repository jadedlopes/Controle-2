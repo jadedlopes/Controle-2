{
 "cells": [
  {
   "cell_type": "code",
   "execution_count": 6,
   "metadata": {},
   "outputs": [],
   "source": [
    "from numpy import linspace, zeros, arange, e, sqrt, pi, abs\n",
    "from control import c2d, tf, pzmap\n",
    "from control.matlab import rlocus\n",
    "from math import degrees, tan\n",
    "from cmath import phase, rect\n",
    "import matplotlib.pyplot as plt \n",
    "import control\n"
   ]
  },
  {
   "cell_type": "code",
   "execution_count": 9,
   "metadata": {},
   "outputs": [
    {
     "name": "stdout",
     "output_type": "stream",
     "text": [
      "G = \n",
      " \n",
      "1\n",
      "-\n",
      "s\n",
      "\n"
     ]
    }
   ],
   "source": [
    "G1n = 1;\n",
    "G1d = [1,0];\n",
    "\n",
    "G1 = control.tf(G1n,G1d);\n",
    "\n",
    "print(\"G1s= \\n\",G1)\n",
    "\n",
    "G1z = control.c2d()"
   ]
  },
  {
   "cell_type": "code",
   "execution_count": null,
   "metadata": {},
   "outputs": [],
   "source": []
  }
 ],
 "metadata": {
  "kernelspec": {
   "display_name": "base",
   "language": "python",
   "name": "python3"
  },
  "language_info": {
   "codemirror_mode": {
    "name": "ipython",
    "version": 3
   },
   "file_extension": ".py",
   "mimetype": "text/x-python",
   "name": "python",
   "nbconvert_exporter": "python",
   "pygments_lexer": "ipython3",
   "version": "3.11.0"
  },
  "orig_nbformat": 4
 },
 "nbformat": 4,
 "nbformat_minor": 2
}
