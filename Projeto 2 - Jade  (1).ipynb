{
 "cells": [
  {
   "cell_type": "markdown",
   "id": "0d16366e",
   "metadata": {},
   "source": [
    "Instituto Federal de Santa Catarina  \n",
    "Curso de Engenharia Eletrônica  \n",
    "Disciplina: Sistemas de Controle II  \n",
    "Estudante: Jade Dutra Lopes  \n",
    "22 de junho de 2023\n",
    "\n",
    "## Projeto 2 - Controle Digital"
   ]
  },
  {
   "cell_type": "code",
   "execution_count": 1,
   "id": "61fb24f9",
   "metadata": {},
   "outputs": [],
   "source": [
    "from numpy import matrix, eye, linspace, array, zeros, zeros_like, transpose, sqrt, conjugate, block, argmax\n",
    "from numpy.linalg import matrix_rank\n",
    "from control import tf, ss, ss2tf, tfdata, step_response, pole, zero, minreal\n",
    "from control.matlab import acker, lsim\n",
    "from numpy import linalg\n",
    "from math import e, pi, pow, log\n",
    "from scipy.linalg import eig\n",
    "import matplotlib.pyplot as plt\n",
    "import numpy as np\n",
    "import sympy as sp\n",
    "import math\n",
    "import cmath\n",
    "import control\n",
    "import control.matlab\n",
    "\n",
    "def root2poly(symbol, *roots):\n",
    " x = sp.symbols(str(symbol));\n",
    " poly = 1;\n",
    " for root in roots:\n",
    "     poly *=(x-root);\n",
    " return poly.expand();\n",
    "\n",
    "\n",
    "NT = len(\"JadeDutraLopes\")\n",
    "R1 = 2000*NT\n",
    "R2 = 18000\n",
    "C1 = 100e-9\n",
    "C2 = 680e-9\n",
    "\n",
    "#R1 = 34e3\n",
    "#R2 = 18e3\n",
    "#C1 = 78e-9\n",
    "#C2 = 680e-9\n",
    "\n",
    "# último número da matrícula = 4; variáveis de estado: ve1, vx"
   ]
  },
  {
   "cell_type": "markdown",
   "id": "e60c73c0",
   "metadata": {},
   "source": [
    "### Matrizes"
   ]
  },
  {
   "cell_type": "code",
   "execution_count": 2,
   "id": "5b5d53d4",
   "metadata": {},
   "outputs": [
    {
     "data": {
      "text/latex": [
       "\\[\n",
       "\\left(\\begin{array}{rllrll|rll}\n",
       "-556\\phantom{.}&\\hspace{-1em}&\\hspace{-1em}\\phantom{\\cdot}&556\\phantom{.}&\\hspace{-1em}&\\hspace{-1em}\\phantom{\\cdot}&0\\phantom{.}&\\hspace{-1em}&\\hspace{-1em}\\phantom{\\cdot}\\\\\n",
       "-474\\phantom{.}&\\hspace{-1em}&\\hspace{-1em}\\phantom{\\cdot}&421\\phantom{.}&\\hspace{-1em}&\\hspace{-1em}\\phantom{\\cdot}&52.&\\hspace{-1em}5&\\hspace{-1em}\\phantom{\\cdot}\\\\\n",
       "\\hline\n",
       "1\\phantom{.}&\\hspace{-1em}&\\hspace{-1em}\\phantom{\\cdot}&0\\phantom{.}&\\hspace{-1em}&\\hspace{-1em}\\phantom{\\cdot}&0\\phantom{.}&\\hspace{-1em}&\\hspace{-1em}\\phantom{\\cdot}\\\\\n",
       "\\end{array}\\right)\n",
       "\\]"
      ],
      "text/plain": [
       "StateSpace(array([[-555.55555556,  555.55555556],\n",
       "       [-473.85620915,  421.33520075]]), array([[ 0.       ],\n",
       "       [52.5210084]]), array([[1., 0.]]), array([[0.]]))"
      ]
     },
     "execution_count": 2,
     "metadata": {},
     "output_type": "execute_result"
    }
   ],
   "source": [
    "A = matrix([[-1/(R2*C1), 1/(R2*C1)], [-1/(R2*C1) + 1/(R2*C2), -1/(R1*C2) + 1/(R2*C1) - 1/(R2*C2)]])\n",
    "B = matrix([[0], [1/(R1*C2)]])\n",
    "C =  matrix('1, 0')\n",
    "D = matrix('0')\n",
    "\n",
    "#sistema de estados\n",
    "G = ss(A,B,C,D)\n",
    "G"
   ]
  },
  {
   "cell_type": "code",
   "execution_count": 3,
   "id": "fdedd181",
   "metadata": {},
   "outputs": [
    {
     "name": "stdout",
     "output_type": "stream",
     "text": [
      "[[-555.55555556  555.55555556]\n",
      " [-473.85620915  421.33520075]]\n"
     ]
    }
   ],
   "source": [
    "print(A)"
   ]
  },
  {
   "cell_type": "code",
   "execution_count": 4,
   "id": "2ec84967",
   "metadata": {},
   "outputs": [
    {
     "data": {
      "text/latex": [
       "$$\\frac{5.684 \\times 10^{-14} s + 2.918 \\times 10^{4}}{s^2 + 134.2 s + 2.918 \\times 10^{4}}$$"
      ],
      "text/plain": [
       "TransferFunction(array([5.68434189e-14, 2.91783380e+04]), array([1.00000000e+00, 1.34220355e+02, 2.91783380e+04]))"
      ]
     },
     "execution_count": 4,
     "metadata": {},
     "output_type": "execute_result"
    }
   ],
   "source": [
    "sys = ss2tf(G)\n",
    "sys"
   ]
  },
  {
   "cell_type": "code",
   "execution_count": 5,
   "id": "a41230b8",
   "metadata": {},
   "outputs": [
    {
     "data": {
      "image/png": "[encoded data removed]",
      "text/plain": [
       "<Figure size 432x288 with 1 Axes>"
      ]
     },
     "metadata": {
      "needs_background": "light"
     },
     "output_type": "display_data"
    }
   ],
   "source": [
    "x, y = step_response(sys)\n",
    "x2, y2 = step_response(G)\n",
    "plt.figure()\n",
    "plt.plot(x, y,  linewidth=5, label='Sistema')\n",
    "plt.plot(x2, y2, 'r', label='Sistema de estados')\n",
    "plt.title(\"Resposta ao degrau unitário\")\n",
    "plt.xlabel(\"t\")\n",
    "plt.ylabel(\"y (t)\")\n",
    "plt.legend()\n",
    "plt.grid(True)\n",
    "plt.show()"
   ]
  },
  {
   "cell_type": "code",
   "execution_count": 6,
   "id": "3e8d7a01",
   "metadata": {},
   "outputs": [
    {
     "name": "stdout",
     "output_type": "stream",
     "text": [
      "Pólos de G(s) = [-67.1101774+157.08138684j -67.1101774-157.08138684j] \n",
      "T = 2.67 ms\n"
     ]
    }
   ],
   "source": [
    "p = pole(G)\n",
    "print(f'Pólos de G(s) = {p} ')\n",
    "\n",
    "s1 = p[0]\n",
    "\n",
    "# Frequência Amortecida\n",
    "wd = s1.imag\n",
    "\n",
    "# Frequência Amostrada\n",
    "wa = 15 * wd\n",
    "\n",
    "# Período\n",
    "T = 2*pi/wa\n",
    "\n",
    "print(f'T = {T*1e3:.2f} ms')\n",
    "\n",
    "tfinal = 100*T"
   ]
  },
  {
   "cell_type": "markdown",
   "id": "d86bdda6",
   "metadata": {},
   "source": [
    "### Equações Recursivas"
   ]
  },
  {
   "cell_type": "code",
   "execution_count": 7,
   "id": "7ff5d727",
   "metadata": {},
   "outputs": [
    {
     "data": {
      "image/png": "[encoded data removed]",
      "text/plain": [
       "<Figure size 1440x432 with 3 Axes>"
      ]
     },
     "metadata": {
      "needs_background": "light"
     },
     "output_type": "display_data"
    }
   ],
   "source": [
    "kmax = int(tfinal/T + 1)\n",
    "k = linspace(0, kmax, kmax+1)\n",
    "u = array([1.0]*len(k))       #degrau\n",
    " \n",
    "x = matrix([zeros_like(k), zeros_like(k)])\n",
    "x_p = zeros_like(x)\n",
    "\n",
    "y = zeros_like(k)\n",
    "\n",
    "for i in range (1, len(k)):\n",
    "    x[:, i] = T*x_p[:, i-1] + x[:, i-1]\n",
    "    \n",
    "    x_p[:, i] = A*x[:, i] + B*u[i]\n",
    "    y[i] = C*x[:, i] + D*u[i]\n",
    "       \n",
    "f, [Y, X1, X2] = plt.subplots(1, 3, figsize= [20, 6])\n",
    "\n",
    "X1.plot(k*T, transpose(x[0, :]),'r*')\n",
    "X1.set_title(\"Vc1(kT)\")\n",
    "plt.xlabel(\"kT\")\n",
    "X1.grid()\n",
    "\n",
    "X2.plot(k*T, transpose(x[1, :]), 'r*')\n",
    "X2.set_title(\"Vx(kT)\")\n",
    "plt.xlabel(\"kT\")\n",
    "X2.grid()\n",
    "\n",
    "\n",
    "Y.plot(k*T, y, 'r*');\n",
    "Y.set_title(\"y(kT)\")\n",
    "plt.xlabel(\"kT\")\n",
    "Y.grid()\n",
    "\n",
    "plt.show()"
   ]
  },
  {
   "cell_type": "markdown",
   "id": "56916c54",
   "metadata": {},
   "source": [
    "### Requerimentos do projeto"
   ]
  },
  {
   "cell_type": "code",
   "execution_count": 8,
   "id": "67e7209e",
   "metadata": {},
   "outputs": [
    {
     "name": "stdout",
     "output_type": "stream",
     "text": [
      "Ts 5% = 14.0 ms  | Mp = 8.0%\n"
     ]
    }
   ],
   "source": [
    "Ts5 = NT*1e-3\n",
    "Mp = (2*len('Jade'))/100\n",
    "print(f'Ts 5% = {(Ts5*1e3):.4} ms  | Mp = {Mp:.1%}')"
   ]
  },
  {
   "cell_type": "code",
   "execution_count": 9,
   "id": "dc63363e",
   "metadata": {},
   "outputs": [
    {
     "name": "stdout",
     "output_type": "stream",
     "text": [
      "zeta = 0.6266 | wn = 341.9941\n",
      "wd = 266.5363 | wa = 3998.0448 | T = 1.5716 ms\n"
     ]
    }
   ],
   "source": [
    "zeta = sqrt(pow(log(Mp),2)/(pow(pi, 2) + pow(log(Mp),2)))\n",
    "\n",
    "wn = 3/(zeta*Ts5)\n",
    "\n",
    "print(f'zeta = {zeta:.4f} | wn = {wn:.4f}')\n",
    "\n",
    "wd = wn*sqrt(1-zeta**2)\n",
    "wa = 15*wd\n",
    "\n",
    "T = 2*pi/wa\n",
    "\n",
    "print(f'wd = {wd:.4f} | wa = {wa:.4f} | T = {T*1e3:.4f} ms')"
   ]
  },
  {
   "cell_type": "markdown",
   "id": "c8077823",
   "metadata": {},
   "source": [
    "### Novos pólos dominantes"
   ]
  },
  {
   "cell_type": "code",
   "execution_count": 10,
   "id": "8d7fb35e",
   "metadata": {},
   "outputs": [
    {
     "name": "stdout",
     "output_type": "stream",
     "text": [
      "(-214.28571428571428+266.536323007738j)\n",
      "(-214.28571428571428-266.536323007738j)\n",
      "-1071.4285714285713\n"
     ]
    }
   ],
   "source": [
    "s1_ = -zeta*wn + 1j*wd\n",
    "s2_ = -zeta*wn - 1j*wd\n",
    "s3_ = -5*zeta*wn\n",
    "\n",
    "print(s1_)\n",
    "print(s2_)\n",
    "print(s3_)"
   ]
  },
  {
   "cell_type": "code",
   "execution_count": 11,
   "id": "054ab7c2",
   "metadata": {},
   "outputs": [
    {
     "data": {
      "text/plain": [
       "array([1.00000000e+00, 1.50000000e+03, 5.76143652e+05, 1.25314263e+08])"
      ]
     },
     "execution_count": 11,
     "metadata": {},
     "output_type": "execute_result"
    }
   ],
   "source": [
    "eq_des = np.poly([s1_, s2_, s3_]);\n",
    "eq_des"
   ]
  },
  {
   "cell_type": "markdown",
   "id": "7a9bd817",
   "metadata": {},
   "source": [
    "### Ganhos e Controlabilidade"
   ]
  },
  {
   "cell_type": "code",
   "execution_count": 13,
   "id": "6716b427",
   "metadata": {},
   "outputs": [
    {
     "name": "stdout",
     "output_type": "stream",
     "text": [
      "É controlável? 2 + 1 = 3\n",
      "Autovalores = [ -214.28571429+266.53632301j  -214.28571429-266.53632301j\n",
      " -1071.42857143  +0.j        ]\n",
      "K^ = [[   -7.25884919    26.00444444 -4294.77042262]]\n",
      "K = [[-7.25884919 26.00444444]]\n",
      "Ki = [[4294.77042262]]\n"
     ]
    }
   ],
   "source": [
    "t = np.linspace(0, tfinal, 1000) \n",
    "A_c = block([[A, zeros((2, 1))], [-C, 0]])\n",
    "B_c = block([[B], [0]])\n",
    "\n",
    "Mc = block([[A, B], [-C, 0]])\n",
    "\n",
    "print(f'É controlável? {matrix_rank(A)} + 1 = {matrix_rank(Mc)}')\n",
    "\n",
    "K_c = acker(A_c, B_c, [s1_, s2_, s3_])\n",
    "auVa, auVe = eig(A_c-B_c*K_c)\n",
    "\n",
    "print(f'Autovalores = {auVa}')\n",
    "\n",
    "K = matrix([K_c[0, 0], K_c[0 ,1]])\n",
    "Ki = matrix([-K_c[0, 2]])\n",
    "print(f'K^ = {K_c}\\nK = {K}\\nKi = {Ki}')\n",
    "\n",
    "AA = block([[A-B*K, B+Ki], [-C, 0]])\n",
    "BB = matrix([[0], [0], [1]])\n",
    "CC = matrix([1, 0, 0])\n",
    "DD = matrix([0])\n",
    "\n",
    "FTMF = ss(AA, BB, CC, DD)\n",
    "Y, t, X = lsim(FTMF, [1]*len(t), t, matrix('[0;0;0]'))"
   ]
  },
  {
   "cell_type": "markdown",
   "id": "18914a1b",
   "metadata": {},
   "source": [
    "### Observador de Ordem Miníma"
   ]
  },
  {
   "cell_type": "code",
   "execution_count": 14,
   "id": "6049be76",
   "metadata": {},
   "outputs": [],
   "source": [
    "# Resposta ao degrau\n",
    "\n",
    "u = np.ones(len(t));\n",
    "ystep, t, X = control.matlab.lsim(G,u,t);\n",
    "\n",
    "# separando os elemntos do vetor X\n",
    "x1step = X[:,0];\n",
    "x2step = X[:,1];"
   ]
  },
  {
   "cell_type": "code",
   "execution_count": 15,
   "id": "ce7c9574",
   "metadata": {},
   "outputs": [
    {
     "data": {
      "text/plain": [
       "array([-67.1101774+157.08138684j, -67.1101774-157.08138684j])"
      ]
     },
     "execution_count": 15,
     "metadata": {},
     "output_type": "execute_result"
    }
   ],
   "source": [
    "autovalores_planta, autovetores = linalg.eig(A);\n",
    "p = autovalores_planta\n",
    "p"
   ]
  },
  {
   "cell_type": "code",
   "execution_count": 21,
   "id": "2f764a21",
   "metadata": {},
   "outputs": [
    {
     "name": "stdout",
     "output_type": "stream",
     "text": [
      "L: -854.0833975945703\n",
      "\n",
      "Ke: 2.2957534770147645\n",
      "\n",
      "Achapeu: -854.0833975945702\n",
      "\n",
      "Bchapeu: -1159.2025404971089\n",
      "\n",
      "Fchapeu: 52.52100840336135\n",
      "\n",
      "Cchapeu: [[0]\n",
      " [1]]\n",
      "\n",
      "Dchapeu: [[1.        ]\n",
      " [2.29575348]]\n",
      "\n",
      "[[421.33520075]]\n",
      "1\n",
      "A matriz é observável\n"
     ]
    }
   ],
   "source": [
    "Abb = A[1,1]\n",
    "Aab = A[0,1]\n",
    "L = -5*abs(p[1]);\n",
    "# Ganho \n",
    "Ke = control.acker(Abb,Aab,[L])\n",
    "Ke = Ke[0,0]      # Transformando em escalar\n",
    "\n",
    "Aaa = A[0,0];\n",
    "Aba = A[1,0];\n",
    "Ba = B[0,0];\n",
    "Bb = B[1,0];\n",
    "\n",
    "Achapeu = Abb-Ke*Aab;\n",
    "Bchapeu = Achapeu*Ke+Aba-Ke*Aaa;\n",
    "Fchapeu = Bb-Ke*Ba;\n",
    "\n",
    "Cchapeu = np.matrix('0 ; 1');\n",
    "Dchapeu = np.block([[1], [Ke]]);\n",
    "\n",
    "print(\"L: \" + str(L) + \"\\n\")\n",
    "print(\"Ke: \" + str(Ke) + \"\\n\")\n",
    "print(\"Achapeu: \" + str(Achapeu) + \"\\n\")\n",
    "print(\"Bchapeu: \" + str(Bchapeu) + \"\\n\")\n",
    "print(\"Fchapeu: \" + str(Fchapeu) + \"\\n\")\n",
    "print(\"Cchapeu: \" + str(Cchapeu) + \"\\n\")\n",
    "print(\"Dchapeu: \" + str(Dchapeu) + \"\\n\")\n",
    "\n",
    "# Matriz de Controlabilidade do sistema dual para ordem mínima\n",
    "Mc = control.ctrb(Aab,Abb)\n",
    "\n",
    "# Teste de Controlabilidade\n",
    "rank_Mc = np.linalg.matrix_rank(Mc) # número de postos do sistema\n",
    "print(rank_Mc)\n",
    "print('A matriz é observável')\n"
   ]
  },
  {
   "cell_type": "code",
   "execution_count": 17,
   "id": "8066d0c1",
   "metadata": {},
   "outputs": [],
   "source": [
    "# simulação com equações recursivas\n",
    "# definindo o intervalo de simulação e o vetor de entrada\n",
    "Fs = 2000\n",
    "T = 1/Fs;\n",
    "tfinal = 0.2;\n",
    "Kmax = int(tfinal/T+1);\n",
    "k = np.linspace(0, Kmax, int(Fs*tfinal))\n",
    "u = np.ones(len(k));\n",
    "\n",
    "# definindo os vetores\n",
    "x1 = np.zeros(len(k));\n",
    "x2 = np.zeros(len(k));\n",
    "x1_ponto = np.zeros(len(k));\n",
    "x2_ponto = np.zeros(len(k));\n",
    "y = np.zeros(len(k));\n",
    "eta1 = np.zeros(len(k));\n",
    "eta1_ponto = np.zeros(len(k));\n",
    "xtil1 = np.zeros(len(k));\n",
    "xtil2 = np.zeros(len(k));\n",
    "\n",
    "# condições iniciais (podem ser diferentes de zero)\n",
    "x1[0] = 0;  #  para k = 0\n",
    "x2[0] = 0;  #  para k = 0\n",
    "x1_ponto[0] = 0;  #  para k = 0\n",
    "x2_ponto[0] = 0;  #  para k = 0\n",
    "y[0] = C[0,0]*x1[0]+C[0,1]*x2[0]+D*u[0];  #  para k = 0\n",
    "eta1[0] = 0;  #  para k = 0\n",
    "eta1_ponto[0] = Fchapeu*u[0];  #  para k = 0\n",
    "\n",
    "\n",
    "\n",
    "for j in range(1,Kmax-1):\n",
    "    # sistema original\n",
    "        # Equações dos integradores\n",
    "        x1[j]=T*x1_ponto[j-1]+x1[j-1];\n",
    "        x2[j]=T*x2_ponto[j-1]+x2[j-1];    \n",
    "        \n",
    "        # Equação diferencial de estados:  Xponto=A*X+B*U\n",
    "        x1_ponto[j]=A[0,0]*x1[j]+A[0,1]*x2[j]+B[0]*u[j];  \n",
    "        x2_ponto[j]=A[1,0]*x1[j]+A[1,1]*x2[j]+B[1]*u[j]; \n",
    "\n",
    "        # Equação de Saída: Y=C*X+D*U\n",
    "        y[j] = C[0,0]*x1[j]+C[0,1]*x2[j]+D*u[j];\n",
    "\n",
    "    # observador de ordem mínima\n",
    "        # Equações dos integradores do observador\n",
    "        eta1[j]=T*eta1_ponto[j-1]+eta1[j-1];\n",
    "    \n",
    "        # Equação diferencial de estados do observador\n",
    "        eta1_ponto[j]=Achapeu*eta1[j]+Bchapeu*y[j]+Fchapeu*u[j];\n",
    "    \n",
    "    # Transformação\n",
    "        # equação de saída do observador de ordem mínima\n",
    "        xtil1[j]=Cchapeu[0,0]*eta1[j]+Dchapeu[0]*y[j];\n",
    "        xtil2[j]=Cchapeu[1,0]*eta1[j]+Dchapeu[1]*y[j];"
   ]
  },
  {
   "cell_type": "code",
   "execution_count": 23,
   "id": "f11f9134",
   "metadata": {},
   "outputs": [
    {
     "data": {
      "image/png": "[encoded data removed]",
      "text/plain": [
       "<Figure size 432x432 with 1 Axes>"
      ]
     },
     "metadata": {
      "needs_background": "light"
     },
     "output_type": "display_data"
    }
   ],
   "source": [
    "# resposta para entrada ao degrau\n",
    "fig, ((ax1) ) = plt.subplots(1, 1)\n",
    "fig.set_size_inches(6,6)\n",
    "\n",
    "ax1.plot(k*T, xtil1, 'r*', k*T, x1)\n",
    "ax1.set_title(\"x~ da Planta ao Degrau Unitário\")\n",
    "ax1.set_xlabel(\"t\")\n",
    "ax1.set_ylabel(\"y(t)\")\n",
    "\n",
    "ax1.grid(True,'both')"
   ]
  },
  {
   "cell_type": "code",
   "execution_count": 24,
   "id": "d2445572",
   "metadata": {},
   "outputs": [
    {
     "data": {
      "image/png": "[encoded data removed]",
      "text/plain": [
       "<Figure size 432x288 with 1 Axes>"
      ]
     },
     "metadata": {
      "needs_background": "light"
     },
     "output_type": "display_data"
    }
   ],
   "source": [
    "plt.figure()\n",
    "plt.plot(t, x2step,k*T,x2,'*',k*T,xtil2)\n",
    "plt.xlabel(\"t\")\n",
    "plt.ylabel(\"x2(t)\")\n",
    "plt.grid(True)\n",
    "plt.show()"
   ]
  },
  {
   "cell_type": "markdown",
   "id": "e4f2134d",
   "metadata": {},
   "source": [
    "### Resposta para entrada ao degrau do sistema controlado"
   ]
  },
  {
   "cell_type": "code",
   "execution_count": 32,
   "id": "cc6eef70",
   "metadata": {},
   "outputs": [
    {
     "data": {
      "image/png": "[encoded data removed]",
      "text/plain": [
       "<Figure size 576x576 with 1 Axes>"
      ]
     },
     "metadata": {
      "needs_background": "light"
     },
     "output_type": "display_data"
    }
   ],
   "source": [
    "tfinal = 0.2\n",
    "Y_ctrld, t_y_ctrld = control.matlab.step(G,tfinal);\n",
    "\n",
    "fig, ((ax1) ) = plt.subplots(1, 1)\n",
    "fig.set_size_inches(8,8)\n",
    "\n",
    "ax1.plot(t_y_ctrld,Y_ctrld,'*')\n",
    "ax1.set_title(\"Resposta do sistema controlado ao degrau\")\n",
    "ax1.set_xlabel(\"t\")\n",
    "ax1.set_ylabel(\"y(t)\")\n",
    "ax1.legend(['y'],loc=\"lower right\")\n",
    "ax1.grid(True,'both')"
   ]
  },
  {
   "cell_type": "markdown",
   "id": "365a73e4",
   "metadata": {},
   "source": [
    "### Mp e Ts5% controlados"
   ]
  },
  {
   "cell_type": "code",
   "execution_count": 34,
   "id": "e57949e2",
   "metadata": {},
   "outputs": [
    {
     "name": "stdout",
     "output_type": "stream",
     "text": [
      "\n",
      "Mp medido =  0.25999030088832936\n",
      "\n",
      " Ts 5% medido = \n",
      " 0.044117647058823525\n"
     ]
    }
   ],
   "source": [
    "Mp = (max(Y_ctrld)-Y_ctrld[-1])/(Y_ctrld[-1]-Y_ctrld[0]);\n",
    "print(\"\\nMp medido = \",Mp)\n",
    "\n",
    "j = len(t_y_ctrld)-1;\n",
    "delta = 0;\n",
    "while (delta < 0.05):\n",
    "    delta = abs((Y_ctrld[j]-Y_ctrld[-1])/Y_ctrld[-1]);\n",
    "    ts = t_y_ctrld[j];\n",
    "    j = j-1;\n",
    "    \n",
    "print(\"\\n Ts 5% medido = \\n\",ts)"
   ]
  }
 ],
 "metadata": {
  "kernelspec": {
   "display_name": "Python 3",
   "language": "python",
   "name": "python3"
  },
  "language_info": {
   "codemirror_mode": {
    "name": "ipython",
    "version": 3
   },
   "file_extension": ".py",
   "mimetype": "text/x-python",
   "name": "python",
   "nbconvert_exporter": "python",
   "pygments_lexer": "ipython3",
   "version": "3.8.8"
  }
 },
 "nbformat": 4,
 "nbformat_minor": 5
}
